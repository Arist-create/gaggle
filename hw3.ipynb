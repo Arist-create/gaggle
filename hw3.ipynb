{
 "cells": [
  {
   "cell_type": "code",
   "execution_count": 4,
   "metadata": {},
   "outputs": [
    {
     "name": "stdout",
     "output_type": "stream",
     "text": [
      "Лучшая стратегия: Opportunist Bot с 11 победами\n"
     ]
    }
   ],
   "source": [
    "\n",
    "from kaggle_environments import make\n",
    "from collections import defaultdict\n",
    "\n",
    "from agents import (\n",
    "    random_bot, rock_bot, scissors_bot, paper_bot, cycle_bot, reverse_cycle_bot,\n",
    "    reactive_bot, opportunist_bot, counter_random_bot, revenge_bot, polite_bot,\n",
    "    analyzing_bot, mirror_bot, observing_bot\n",
    ")\n",
    "\n",
    "# Создаем окружение для игры \"Камень-ножницы-бумага\"\n",
    "env = make(\"rps\", debug=True)\n",
    "\n",
    "# Список агентов и их названия\n",
    "agents = [\n",
    "    random_bot, rock_bot, scissors_bot, paper_bot, cycle_bot, reverse_cycle_bot,\n",
    "    reactive_bot, opportunist_bot, counter_random_bot, revenge_bot, polite_bot,\n",
    "    analyzing_bot, mirror_bot, observing_bot\n",
    "]\n",
    "agent_names = [\n",
    "    \"Random Bot\", \"Rock Bot\", \"Scissors Bot\", \"Paper Bot\", \"Cycle Bot\", \"Reverse Cycle Bot\",\n",
    "    \"Reactive Bot\", \"Opportunist Bot\", \"Counter Random Bot\", \"Revenge Bot\", \"Polite Bot\",\n",
    "    \"Analyzing Bot\", \"Mirror Bot\", \"Observing Bot\"\n",
    "]\n",
    "\n",
    "# Словарь для хранения количества побед каждого агента\n",
    "win_counts = defaultdict(int)\n",
    "\n",
    "# Сравниваем агентов друг с другом и записываем результаты\n",
    "for i, agent_1 in enumerate(agents):\n",
    "    for j, agent_2 in enumerate(agents):\n",
    "        if i < j:\n",
    "            env.reset()\n",
    "            output = env.run([agent_1, agent_2])\n",
    "\n",
    "            # Подсчет очков для каждого агента в данном матче\n",
    "            agent_1_score = sum([1 for step in output if step[0][\"reward\"] > step[1][\"reward\"]])\n",
    "            agent_2_score = sum([1 for step in output if step[0][\"reward\"] < step[1][\"reward\"]])\n",
    "\n",
    "            # Записываем победителя (если агент 1 победил, увеличиваем его счет, и наоборот)\n",
    "            if agent_1_score > agent_2_score:\n",
    "                win_counts[agent_names[i]] += 1\n",
    "            elif agent_2_score > agent_1_score:\n",
    "                win_counts[agent_names[j]] += 1\n",
    "\n",
    "# Находим агента с наибольшим количеством побед\n",
    "best_agent = max(win_counts, key=win_counts.get)\n",
    "print(f\"Лучшая стратегия: {best_agent} с {win_counts[best_agent]} победами\")\n",
    "\n",
    "\n"
   ]
  }
 ],
 "metadata": {
  "kernelspec": {
   "display_name": "Python 3",
   "language": "python",
   "name": "python3"
  },
  "language_info": {
   "codemirror_mode": {
    "name": "ipython",
    "version": 3
   },
   "file_extension": ".py",
   "mimetype": "text/x-python",
   "name": "python",
   "nbconvert_exporter": "python",
   "pygments_lexer": "ipython3",
   "version": "3.12.6"
  }
 },
 "nbformat": 4,
 "nbformat_minor": 2
}
